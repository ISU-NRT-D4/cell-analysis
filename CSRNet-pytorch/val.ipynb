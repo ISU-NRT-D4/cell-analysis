{
 "cells": [
  {
   "cell_type": "code",
   "execution_count": 1,
   "metadata": {
    "tags": []
   },
   "outputs": [
    {
     "name": "stderr",
     "output_type": "stream",
     "text": [
      "/scratch/abdu/833135/ipykernel_31631/1028975186.py:8: DeprecationWarning: Please use `gaussian_filter` from the `scipy.ndimage` namespace, the `scipy.ndimage.filters` namespace is deprecated.\n",
      "  from scipy.ndimage.filters import gaussian_filter\n"
     ]
    }
   ],
   "source": [
    "import h5py\n",
    "import scipy.io as io\n",
    "import PIL.Image as Image\n",
    "import numpy as np\n",
    "import os\n",
    "import glob\n",
    "from matplotlib import pyplot as plt\n",
    "from scipy.ndimage.filters import gaussian_filter \n",
    "import scipy\n",
    "import json\n",
    "import torchvision.transforms.functional as F\n",
    "from matplotlib import cm as CM\n",
    "from image import *\n",
    "from model import CSRNet\n",
    "import torch\n",
    "%matplotlib inline"
   ]
  },
  {
   "cell_type": "code",
   "execution_count": 2,
   "metadata": {
    "tags": []
   },
   "outputs": [],
   "source": [
    "from torchvision import datasets, transforms\n",
    "transform=transforms.Compose([\n",
    "                       transforms.ToTensor(),transforms.Normalize(mean=[0.485, 0.456, 0.406],\n",
    "                                     std=[0.229, 0.224, 0.225]),\n",
    "                   ])"
   ]
  },
  {
   "cell_type": "code",
   "execution_count": 3,
   "metadata": {
    "tags": []
   },
   "outputs": [],
   "source": [
    "root = 'abdu/CSRNet-pytorch/IDCIA'"
   ]
  },
  {
   "cell_type": "code",
   "execution_count": 4,
   "metadata": {
    "collapsed": true,
    "jupyter": {
     "outputs_hidden": true
    }
   },
   "outputs": [],
   "source": [
    "#now generate the ShanghaiA's ground truth\n",
    "part_A_train = os.path.join(root,'part_A_final/train_data','images')\n",
    "part_A_test = os.path.join(root,'part_A_final/test_data','images')\n",
    "part_B_train = os.path.join(root,'part_B_final/train_data','images')\n",
    "part_B_test = os.path.join(root,'part_B_final/test_data','images')\n",
    "path_sets = [part_A_test]"
   ]
  },
  {
   "cell_type": "code",
   "execution_count": 4,
   "metadata": {},
   "outputs": [],
   "source": [
    "device = torch.device('cuda' if torch.cuda.is_available() else 'cpu')"
   ]
  },
  {
   "cell_type": "code",
   "execution_count": 14,
   "metadata": {},
   "outputs": [],
   "source": [
    "import json\n",
    "\n",
    "with open('test.json', 'r') as f:\n",
    "  data = json.load(f)\n"
   ]
  },
  {
   "cell_type": "code",
   "execution_count": 5,
   "metadata": {
    "collapsed": true,
    "jupyter": {
     "outputs_hidden": true
    }
   },
   "outputs": [],
   "source": [
    "img_paths = []\n",
    "for path in path_sets:\n",
    "    for img_path in glob.glob(os.path.join(path, '*.jpg')):\n",
    "        img_paths.append(img_path)"
   ]
  },
  {
   "cell_type": "code",
   "execution_count": 6,
   "metadata": {
    "tags": []
   },
   "outputs": [],
   "source": [
    "model = CSRNet()"
   ]
  },
  {
   "cell_type": "code",
   "execution_count": 7,
   "metadata": {
    "tags": []
   },
   "outputs": [],
   "source": [
    "model = model.to(device)"
   ]
  },
  {
   "cell_type": "code",
   "execution_count": 9,
   "metadata": {
    "tags": []
   },
   "outputs": [],
   "source": [
    "checkpoint = torch.load('0model_best.pth.tar')"
   ]
  },
  {
   "cell_type": "code",
   "execution_count": 10,
   "metadata": {
    "tags": []
   },
   "outputs": [
    {
     "data": {
      "text/plain": [
       "<All keys matched successfully>"
      ]
     },
     "execution_count": 10,
     "metadata": {},
     "output_type": "execute_result"
    }
   ],
   "source": [
    "model.load_state_dict(checkpoint['state_dict'])"
   ]
  },
  {
   "cell_type": "code",
   "execution_count": 34,
   "metadata": {
    "scrolled": true
   },
   "outputs": [
    {
     "name": "stdout",
     "output_type": "stream",
     "text": [
      "0 2.2181310653686523\n",
      "52\n",
      "1 3.6599674224853516\n",
      "52\n",
      "2 4.589557647705078\n",
      "52\n",
      "3 8.9922513961792\n",
      "52\n",
      "4 25.660548210144043\n",
      "52\n",
      "5 35.01821804046631\n",
      "52\n",
      "6 50.212714195251465\n",
      "52\n",
      "7 56.964669704437256\n",
      "52\n",
      "8 60.96007299423218\n",
      "52\n",
      "9 72.69265127182007\n",
      "52\n",
      "10 75.42641925811768\n",
      "52\n",
      "11 82.02518939971924\n",
      "52\n",
      "12 88.27704238891602\n",
      "52\n",
      "13 92.31480026245117\n",
      "52\n",
      "14 96.3329119682312\n",
      "52\n",
      "15 105.10876417160034\n",
      "52\n",
      "16 105.26580786705017\n",
      "52\n",
      "17 112.44543814659119\n",
      "52\n",
      "18 112.47018933296204\n",
      "52\n",
      "19 118.19524312019348\n",
      "52\n",
      "20 124.07465863227844\n",
      "52\n",
      "21 124.88626980781555\n",
      "52\n",
      "22 133.48138642311096\n",
      "52\n",
      "23 136.7087299823761\n",
      "52\n",
      "24 143.2483561038971\n",
      "52\n",
      "25 148.81314539909363\n",
      "52\n",
      "26 158.40725779533386\n",
      "52\n",
      "27 160.66257452964783\n",
      "52\n",
      "28 173.80035853385925\n",
      "52\n",
      "29 179.68850016593933\n",
      "52\n",
      "30 191.4583899974823\n",
      "52\n",
      "31 196.7242820262909\n",
      "52\n",
      "32 199.202867269516\n",
      "52\n",
      "33 202.50807762145996\n",
      "52\n",
      "34 209.14150285720825\n",
      "52\n",
      "35 209.5620675086975\n",
      "52\n",
      "36 209.589204384014\n",
      "52\n",
      "37 216.65027864091098\n",
      "52\n",
      "38 222.52914435975254\n",
      "52\n",
      "39 227.02528007142246\n",
      "52\n",
      "40 231.22211940400302\n",
      "52\n",
      "41 255.30881984345615\n",
      "52\n",
      "42 260.6186028253287\n",
      "52\n",
      "43 260.68955237977207\n",
      "52\n",
      "44 263.615473581478\n",
      "52\n",
      "45 266.8079536687583\n",
      "52\n",
      "46 267.96867473237216\n",
      "52\n",
      "47 271.7912722360343\n",
      "52\n",
      "48 277.9146037828177\n",
      "52\n",
      "49 279.10361631028354\n",
      "52\n",
      "50 283.8680873643607\n",
      "52\n",
      "51 286.45446546189487\n",
      "52\n",
      "5.5087397204210555\n"
     ]
    }
   ],
   "source": [
    "mae = 0\n",
    "transform=transforms.Compose([transforms.ToTensor(),\n",
    "                       transforms.Normalize(mean=[0.485, 0.456, 0.406],\n",
    "                                     std=[0.229, 0.224, 0.225]),\n",
    "                   ])\n",
    "for i in range(len(data)):\n",
    "    img = Image.open(data[i]).convert('RGB')\n",
    "    img = transform(img).cuda()\n",
    "    # img[0,:,:]=img[0,:,:]-92.8207477031\n",
    "    # img[1,:,:]=img[1,:,:]-95.2757037428\n",
    "    # img[2,:,:]=img[2,:,:]-104.877445883\n",
    "    img = img.to(device)\n",
    "    #img = transform(Image.open(img_paths[i]).convert('RGB')).cuda()\n",
    "    gt_file = h5py.File(data[i].replace('.tiff','.h5').replace('images','ground_truth'),'r')\n",
    "    #print(data[i])\n",
    "    groundtruth = np.asarray(gt_file['density'])\n",
    "    output = model(img.unsqueeze(0))\n",
    "    #print(f\"The prediction is: {int(output.detach().cpu().sum().numpy())} and the ground truth is {np.sum(groundtruth)}\")\n",
    "    mae += abs(output.detach().cpu().sum().numpy()-np.sum(groundtruth))\n",
    "    print (i,mae)\n",
    "    print(len(data))\n",
    "print (mae/len(data))"
   ]
  },
  {
   "cell_type": "code",
   "execution_count": null,
   "metadata": {},
   "outputs": [],
   "source": []
  }
 ],
 "metadata": {
  "kernelspec": {
   "display_name": "mlgpuvenv",
   "language": "python",
   "name": "mlgpuvenv"
  },
  "language_info": {
   "codemirror_mode": {
    "name": "ipython",
    "version": 3
   },
   "file_extension": ".py",
   "mimetype": "text/x-python",
   "name": "python",
   "nbconvert_exporter": "python",
   "pygments_lexer": "ipython3",
   "version": "3.9.13"
  }
 },
 "nbformat": 4,
 "nbformat_minor": 4
}
